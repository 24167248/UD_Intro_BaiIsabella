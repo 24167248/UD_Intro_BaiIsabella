{
 "cells": [
  {
   "cell_type": "markdown",
   "id": "38e188a5",
   "metadata": {},
   "source": [
    "# Exercise 00\n",
    "Write a piece of code that allocates a list of 20 integers and initializes each element by its index multiplied by 5. Print the result."
   ]
  },
  {
   "cell_type": "code",
   "execution_count": 1,
   "id": "01aa4f35",
   "metadata": {},
   "outputs": [
    {
     "name": "stdout",
     "output_type": "stream",
     "text": [
      "[0, 5, 10, 15, 20, 25, 30, 35, 40, 45, 50, 55, 60, 65, 70, 75, 80, 85, 90, 95]\n"
     ]
    }
   ],
   "source": [
    "numbers = [i*5 for i in range(20)]\n",
    "print(numbers)"
   ]
  },
  {
   "cell_type": "markdown",
   "id": "529d91ae",
   "metadata": {},
   "source": [
    "# Exercise 01\n",
    "Define a function that takes an integer as input, prints  all integers that it is divisable by, and returns the largest one."
   ]
  },
  {
   "cell_type": "code",
   "execution_count": 9,
   "id": "30e79132",
   "metadata": {},
   "outputs": [
    {
     "name": "stdin",
     "output_type": "stream",
     "text": [
      "Enter an integer:  15\n"
     ]
    },
    {
     "name": "stdout",
     "output_type": "stream",
     "text": [
      "1\n",
      "3\n",
      "5\n",
      "15\n",
      "The largest divisor of 15 is 15\n"
     ]
    }
   ],
   "source": [
    "# function to find all divisors and return largest found \n",
    "def getDivisors(number):\n",
    "    # for loop to find divisors\n",
    "    for i in range(1, number+1):\n",
    "        # if i divides the number evenly \n",
    "        if number%i==0:\n",
    "            print(i)\n",
    "            # update value of largest Divisor to i \n",
    "            largestDivisor=i\n",
    "    return largestDivisor\n",
    "\n",
    "number = int(input(\"Enter an integer: \"))\n",
    "largestDivisor=getDivisors(number)\n",
    "print(f\"The largest divisor of {number} is {largestDivisor}\")\n"
   ]
  },
  {
   "cell_type": "markdown",
   "id": "cfbe30d4",
   "metadata": {},
   "source": [
    "# Exercise 02\n",
    "- create a dictionary with 6 keys and values of your choice\n",
    "- write a function that takes a dictionary and a value as input and returns whether the value occurs as a key in the dictionary\n",
    "- write a function that takes a dictionary as input, and returns the dictionary but the keys are swapped with their values (resolve the issue if a value occurs twice!)"
   ]
  },
  {
   "cell_type": "code",
   "execution_count": 16,
   "id": "2123f1c6",
   "metadata": {},
   "outputs": [
    {
     "name": "stdin",
     "output_type": "stream",
     "text": [
      "Enter a key to check if it is in the dictionary:  groot\n"
     ]
    },
    {
     "name": "stdout",
     "output_type": "stream",
     "text": [
      "Key does not exist in dictionary\n"
     ]
    }
   ],
   "source": [
    "thisDict = {\n",
    "    'grass':'green',\n",
    "    'sky':'blue',\n",
    "    'clouds':'white',\n",
    "    'rock':'grey',\n",
    "    'dirt':'brown',\n",
    "    'beaver':'fat'}\n",
    "\n",
    "def valueKey(dictionary, value):\n",
    "    return value in dictionary.keys()\n",
    "\n",
    "valueDef = input(\"Enter a key to check if it is in the dictionary: \")\n",
    "\n",
    "if valueKey(thisDict, valueDef):\n",
    "    print (\"Key exists in dictionary\")\n",
    "else:\n",
    "    print (\"Key does not exist in dictionary\")\n"
   ]
  },
  {
   "cell_type": "code",
   "execution_count": 19,
   "id": "31a3590d-2436-43a7-8106-b5228afcee9c",
   "metadata": {},
   "outputs": [
    {
     "name": "stdout",
     "output_type": "stream",
     "text": [
      "{'green': 'grass', 'blue': 'sky', 'white': 'clouds', 'grey': 'rock', 'brown': 'dirt', 'fat': 'beaver'}\n"
     ]
    }
   ],
   "source": [
    "def swapDictionary(dictionary):\n",
    "    swapDict={}\n",
    "    for key, value in dictionary.items():\n",
    "        if value in swapDict:\n",
    "            if isinstance(swapDict[value], list):\n",
    "                swapdict[value].append(key)\n",
    "            else:\n",
    "                swapDict[value]=[swapDict[value], key]\n",
    "        else:\n",
    "            swapDict[value]=key\n",
    "    return swapDict\n",
    "\n",
    "thisDict = {\n",
    "    'grass':'green',\n",
    "    'sky':'blue',\n",
    "    'clouds':'white',\n",
    "    'rock':'grey',\n",
    "    'dirt':'brown',\n",
    "    'beaver':'fat'}\n",
    "\n",
    "swapDict=swapDictionary(thisDict)\n",
    "print(swapDict)"
   ]
  },
  {
   "cell_type": "markdown",
   "id": "b4b4e426",
   "metadata": {},
   "source": [
    "# Exercise 03\n",
    "Define a function that creates a dictionary of the first n fibonacci numbers as values paired with their indices as keys. "
   ]
  },
  {
   "cell_type": "code",
   "execution_count": 20,
   "id": "7845b5a4",
   "metadata": {},
   "outputs": [
    {
     "name": "stdin",
     "output_type": "stream",
     "text": [
      "Enter number of fibonacci numbers to generate into dictionary:  5\n"
     ]
    },
    {
     "name": "stdout",
     "output_type": "stream",
     "text": [
      "{0: 0, 1: 1, 2: 1, 3: 2, 4: 3}\n"
     ]
    }
   ],
   "source": [
    "def fibonacciDictionary(n):\n",
    "    fibDict={}\n",
    "    n1=0\n",
    "    n2=1\n",
    "\n",
    "    for i in range(n):\n",
    "        fibDict[i]=n1\n",
    "        m = n1 + n2\n",
    "        n1 = n2\n",
    "        n2 = m\n",
    "    return fibDict\n",
    "\n",
    "n=int(input(\"Enter number of fibonacci numbers to generate into dictionary: \"))\n",
    "fibNumbers = fibonacciDictionary(n)\n",
    "print(fibNumbers)\n"
   ]
  },
  {
   "cell_type": "code",
   "execution_count": null,
   "id": "5cb57228-dd6e-43bc-a022-ee5a64867336",
   "metadata": {},
   "outputs": [],
   "source": []
  }
 ],
 "metadata": {
  "kernelspec": {
   "display_name": "Python 3 (ipykernel)",
   "language": "python",
   "name": "python3"
  },
  "language_info": {
   "codemirror_mode": {
    "name": "ipython",
    "version": 3
   },
   "file_extension": ".py",
   "mimetype": "text/x-python",
   "name": "python",
   "nbconvert_exporter": "python",
   "pygments_lexer": "ipython3",
   "version": "3.11.0"
  }
 },
 "nbformat": 4,
 "nbformat_minor": 5
}
