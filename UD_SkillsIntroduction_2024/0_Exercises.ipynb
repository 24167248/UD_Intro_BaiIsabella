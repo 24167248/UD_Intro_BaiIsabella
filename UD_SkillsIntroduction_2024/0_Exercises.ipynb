{
 "cells": [
  {
   "cell_type": "markdown",
   "id": "529d91ae",
   "metadata": {
    "tags": []
   },
   "source": [
    "# Exercise 00\n",
    "Write a bit of code that prints _Introduction to Programming_ to the console and execute the cell"
   ]
  },
  {
   "cell_type": "code",
   "execution_count": 1,
   "id": "98711beb",
   "metadata": {},
   "outputs": [
    {
     "name": "stdout",
     "output_type": "stream",
     "text": [
      "Introduction to Programming\n"
     ]
    }
   ],
   "source": [
    "print('Introduction to Programming')"
   ]
  },
  {
   "cell_type": "markdown",
   "id": "63ad5023",
   "metadata": {},
   "source": [
    "-----------------------------------------------------------------------------\n",
    "# Exercise 01\n",
    "Hello World is traditionally the first program anyone writes. It is\n",
    "very simple and the only thing it should do is print Hello World! to the\n",
    "terminal window.\n",
    "Create a file called HelloWorld.py and edit the contents so it prints Hello World! to the terminal and execute it using the command line."
   ]
  },
  {
   "cell_type": "markdown",
   "id": "a4a7c4c2",
   "metadata": {},
   "source": [
    "-----------------------------------------------------------------------------\n",
    "# Exercise 02\n",
    "Write some code to print your name, email, and age on separate lines. For each element first assign it to a variable and use the variable to print. \n",
    "\n",
    "Bonus: try to create the print statement for all variable in one line of code. (hint: '\\n' is the character for a new line)"
   ]
  },
  {
   "cell_type": "code",
   "execution_count": 45,
   "id": "fc8fface",
   "metadata": {},
   "outputs": [
    {
     "name": "stdout",
     "output_type": "stream",
     "text": [
      "Isabella Bai\n",
      "ucbvipb@ucl.ac.uk\n",
      "23\n",
      " \n",
      "Isabella Bai\n",
      "ucbvipb@ucl.ac.uk\n",
      "23\n",
      " \n",
      "name:Isabella Bai \n",
      "email: ucbvipb@ucl.ac.uk \n",
      "age:23\n"
     ]
    }
   ],
   "source": [
    "name = \"Isabella Bai\"\n",
    "email = \"ucbvipb@ucl.ac.uk\"\n",
    "age = \"23\"\n",
    "\n",
    "print(name)\n",
    "print(email)\n",
    "print(age)\n",
    "\n",
    "print(' ')\n",
    "\n",
    "print(name + '\\n' + email + '\\n' + age)\n",
    "\n",
    "print(' ')\n",
    "\n",
    "name = \"Isabella Bai\"\n",
    "email = \"ucbvipb@ucl.ac.uk\"\n",
    "age = 23\n",
    "print(f\"name:{name} \\nemail: {email} \\nage:{age}\")"
   ]
  },
  {
   "cell_type": "markdown",
   "id": "0dd1c1d1",
   "metadata": {},
   "source": [
    "-----------------------------------------------------------------------------\n",
    "# Exercise 03\n",
    "Print the numbers 0, 178, -21, 2938 divided by 49, 436 multiplied with 9948 and 12 to the power of 20\n",
    "\n",
    "(Hint: Look up the documentation of basic arithmetic operators)"
   ]
  },
  {
   "cell_type": "code",
   "execution_count": 14,
   "id": "f3d5d009",
   "metadata": {},
   "outputs": [
    {
     "name": "stdout",
     "output_type": "stream",
     "text": [
      "0\n",
      "178\n",
      "-21\n",
      "59.95918367346939\n",
      "4337328\n",
      "3833759992447475122176\n"
     ]
    }
   ],
   "source": [
    "print(0)\n",
    "print(178)\n",
    "print(-21)\n",
    "print(2938/49)\n",
    "print(436*9948)\n",
    "print(12**20)"
   ]
  },
  {
   "cell_type": "markdown",
   "id": "1f151455",
   "metadata": {},
   "source": [
    "-----------------------------------------------------------------------------\n",
    "# Exercise 04\n",
    "Print sin(200), cos(100), tan($\\pi$/4)\n",
    "\n",
    "(Hint: Look up for how to use trigonometric function, and how to get the value of $\\pi$.)"
   ]
  },
  {
   "cell_type": "code",
   "execution_count": 23,
   "id": "d0e37690",
   "metadata": {},
   "outputs": [
    {
     "name": "stdout",
     "output_type": "stream",
     "text": [
      "-0.34202014332566866\n",
      "-0.1736481776669303\n",
      "0.9999999999999999\n",
      " \n",
      "-0.34202014332566866\n",
      "-0.1736481776669303\n",
      "0.9999999999999999\n"
     ]
    }
   ],
   "source": [
    "import math\n",
    "print(math.sin(math.radians(200)))\n",
    "import math\n",
    "print(math.cos(math.radians(100)))\n",
    "import math\n",
    "print(math.tan(math.pi/4))\n",
    "\n",
    "print(' ')\n",
    "\n",
    "from math import sin, cos, tan, radians, pi\n",
    "print(sin(radians(200)))\n",
    "print(cos(radians(100)))\n",
    "print(tan(pi/4))"
   ]
  },
  {
   "cell_type": "markdown",
   "id": "9d026820",
   "metadata": {},
   "source": [
    "-----------------------------------------------------------------------------\n",
    "# Exercise 05\n",
    "Write a program to read your first and last names from the console seperately, and then print them on the console together, separated by a space."
   ]
  },
  {
   "cell_type": "code",
   "execution_count": 30,
   "id": "4c7217e0",
   "metadata": {},
   "outputs": [
    {
     "name": "stdin",
     "output_type": "stream",
     "text": [
      " Isabella\n",
      " Bai\n"
     ]
    },
    {
     "name": "stdout",
     "output_type": "stream",
     "text": [
      "Isabella Bai\n",
      " \n"
     ]
    },
    {
     "name": "stdin",
     "output_type": "stream",
     "text": [
      " Isabella\n",
      " Bai\n"
     ]
    },
    {
     "name": "stdout",
     "output_type": "stream",
     "text": [
      "Isabella Bai\n"
     ]
    }
   ],
   "source": [
    "firstName = input()\n",
    "lastName = input()\n",
    "print(firstName + ' ' + lastName)\n",
    "\n",
    "print(' ')\n",
    "\n",
    "firstName = input()\n",
    "lastName = input()\n",
    "print(firstName, lastName)"
   ]
  },
  {
   "cell_type": "markdown",
   "id": "e83fa346",
   "metadata": {},
   "source": [
    "-----------------------------------------------------------------------------\n",
    "# Exercise 06\n",
    "Write a program that determines whether a number given as user input is positive or negative\n",
    " \n",
    "You will need to convert the console input from a string to a number first!"
   ]
  },
  {
   "cell_type": "code",
   "execution_count": 44,
   "id": "ecd924c2",
   "metadata": {},
   "outputs": [
    {
     "name": "stdin",
     "output_type": "stream",
     "text": [
      " -5.4\n"
     ]
    },
    {
     "name": "stdout",
     "output_type": "stream",
     "text": [
      "The number is negative\n"
     ]
    }
   ],
   "source": [
    "# define variable for input and convert from a string to a number\n",
    "x = float(input ())\n",
    "\n",
    "# determine whether the number inputted is positive or negative\n",
    "if(x>0):\n",
    "    print(\"The number is positive\")\n",
    "elif(x<0):\n",
    "    print(\"The number is negative\")\n",
    "else:\n",
    "    print(\"The number is zero\")\n",
    "    \n",
    "    "
   ]
  },
  {
   "cell_type": "markdown",
   "id": "2a192596",
   "metadata": {},
   "source": [
    "-----------------------------------------------------------------------------\n",
    "# Exercise 07\n",
    "Write a program that picks a random number between 1-20 and makes the user guess until they get the number right. Then print a congratulations message\n",
    "- (Find out yourself how to generate a random integer)\n",
    "- Bonus: make the user choose the range within which they have to guess\n",
    "- Bonus: keep track of how many guesses were made and print this at the end"
   ]
  },
  {
   "cell_type": "code",
   "execution_count": 62,
   "id": "70358dd3",
   "metadata": {},
   "outputs": [
    {
     "name": "stdin",
     "output_type": "stream",
     "text": [
      "Set lower range:  0\n",
      "Set upper range:  5\n"
     ]
    },
    {
     "name": "stdout",
     "output_type": "stream",
     "text": [
      "Guess the random number\n"
     ]
    },
    {
     "name": "stdin",
     "output_type": "stream",
     "text": [
      " 1\n",
      "Incorrect, try again:  2\n"
     ]
    },
    {
     "name": "stdout",
     "output_type": "stream",
     "text": [
      "Correct! Congratulations! It took you 2 guesses.\n"
     ]
    }
   ],
   "source": [
    "import random \n",
    "\n",
    "# generating random number between 1 and 20\n",
    "#randomNumber = random.randint(1,21)\n",
    "\n",
    "# make the user choose the range in which they must guess\"\n",
    "lowerRange = int(input(\"Set lower range: \"))\n",
    "upperRange = int(input(\"Set upper range: \"))\n",
    "randomNumber = random.randint(lowerRange,upperRange+1)\n",
    "\n",
    "# game instructions \n",
    "print(\"Guess the random number\")\n",
    "\n",
    "guess = int(input())\n",
    "\n",
    "# tracking number of guesses \n",
    "numberOfGuesses = 1\n",
    "\n",
    "# loop for incorrect guesses while keeping track of the number of guesses \n",
    "while not randomNumber == guess:\n",
    "    numberOfGuesses+=1 \n",
    "    guess = int(input(\"Incorrect, try again: \"))\n",
    "    \n",
    "print (f\"Correct! Congratulations! It took you {numberOfGuesses} guesses.\")\n",
    "        \n"
   ]
  },
  {
   "cell_type": "markdown",
   "id": "d53b9c07",
   "metadata": {},
   "source": [
    "-----------------------------------------------------------------------------\n",
    "# Exercise 08\n",
    "Ask a sentence as input, then print the words in alphabetical order.\n",
    "Hint: look up how to split up a string"
   ]
  },
  {
   "cell_type": "code",
   "execution_count": 67,
   "id": "b6524cf5",
   "metadata": {},
   "outputs": [
    {
     "name": "stdin",
     "output_type": "stream",
     "text": [
      "Enter sntence to be alphabetized:  this is taking so long\n"
     ]
    },
    {
     "name": "stdout",
     "output_type": "stream",
     "text": [
      "is\n",
      "long\n",
      "so\n",
      "taking\n",
      "this\n"
     ]
    }
   ],
   "source": [
    "# prompt sentence input \n",
    "sentence = input(\"Enter sntence to be alphabetized: \")\n",
    "\n",
    "# split sentence into string \n",
    "words = sentence.split()\n",
    "\n",
    "# alphabetizing\n",
    "azWords = sorted(words)\n",
    "\n",
    "3for word in azWords:\n",
    "    print(word) "
   ]
  },
  {
   "cell_type": "markdown",
   "id": "09a7b060",
   "metadata": {},
   "source": [
    "-----------------------------------------------------------------------------\n",
    "# Exercise 09\n",
    "Write a program using for loops to print a christmas tree of x lines high\n",
    "specified by the user.\n",
    "(use for loops)\n",
    "so for instance, a chrismas tree of 4 high should looks like this:\n",
    "\n",
    "```\n",
    "\n",
    "    *\n",
    "   ***\n",
    "  *****\n",
    " *******\n",
    "    |\n",
    "\n",
    "```\n",
    "\n",
    "hint: first combine strings into a variable before printing"
   ]
  },
  {
   "cell_type": "code",
   "execution_count": 71,
   "id": "5150f7a4",
   "metadata": {},
   "outputs": [
    {
     "name": "stdin",
     "output_type": "stream",
     "text": [
      "How tall is your Christmas tree? :  10\n"
     ]
    },
    {
     "name": "stdout",
     "output_type": "stream",
     "text": [
      "         *\n",
      "        ***\n",
      "       *****\n",
      "      *******\n",
      "     *********\n",
      "    ***********\n",
      "   *************\n",
      "  ***************\n",
      " *****************\n",
      "*******************\n",
      "         |\n"
     ]
    }
   ],
   "source": [
    "# ask for number of layers \n",
    "layers=int(input(\"How tall is your Christmas tree? : \"))\n",
    "\n",
    "# create a function to produce the correct number of spaces and stars per layer to create the pattern\n",
    "for i in range (1,layers+1):\n",
    "    print(\" \"*(layers-i)+\"*\"*(i*2-1))\n",
    "\n",
    "# create the trunk\n",
    "print(\" \"*(layers-1)+\"|\")"
   ]
  },
  {
   "cell_type": "markdown",
   "id": "07f67531",
   "metadata": {},
   "source": [
    "-----------------------------------------------------------------------------\n",
    "# Exercise 10\n",
    "Write a piece of code that prints the first $n$ numbers of the padovan sequence"
   ]
  },
  {
   "cell_type": "code",
   "execution_count": 72,
   "id": "d301c61b",
   "metadata": {},
   "outputs": [
    {
     "name": "stdin",
     "output_type": "stream",
     "text": [
      " 20\n"
     ]
    },
    {
     "name": "stdout",
     "output_type": "stream",
     "text": [
      "1\n",
      "1\n",
      "1\n",
      "2\n",
      "2\n",
      "3\n",
      "4\n",
      "5\n",
      "7\n",
      "9\n",
      "12\n",
      "16\n",
      "21\n",
      "28\n",
      "37\n",
      "49\n",
      "65\n",
      "86\n",
      "114\n",
      "151\n"
     ]
    }
   ],
   "source": [
    "p0=1\n",
    "p1=1\n",
    "p2=1\n",
    "\n",
    "n=int(input())\n",
    "for i in range(n):\n",
    "    print(p0)\n",
    "    n=p1+p0\n",
    "    p0=p1\n",
    "    p1=p2\n",
    "    p2=n"
   ]
  },
  {
   "cell_type": "code",
   "execution_count": null,
   "id": "8a41f743-7c5c-4260-bb3c-257e7d978055",
   "metadata": {},
   "outputs": [],
   "source": []
  }
 ],
 "metadata": {
  "kernelspec": {
   "display_name": "Python 3 (ipykernel)",
   "language": "python",
   "name": "python3"
  },
  "language_info": {
   "codemirror_mode": {
    "name": "ipython",
    "version": 3
   },
   "file_extension": ".py",
   "mimetype": "text/x-python",
   "name": "python",
   "nbconvert_exporter": "python",
   "pygments_lexer": "ipython3",
   "version": "3.11.0"
  }
 },
 "nbformat": 4,
 "nbformat_minor": 5
}
